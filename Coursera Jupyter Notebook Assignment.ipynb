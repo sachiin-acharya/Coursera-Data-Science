{
 "cells": [
  {
   "cell_type": "markdown",
   "id": "9392249c-e027-41c2-bc29-fb54dfe441f6",
   "metadata": {},
   "source": [
    "# Data Science Tools and Ecosystem"
   ]
  },
  {
   "cell_type": "markdown",
   "id": "b43dfaf4-8e5d-4cd2-ac41-88ce71e12d5d",
   "metadata": {},
   "source": [
    "## Introduction\n",
    "\n",
    "This notebook provides an overview of the tools and languages used in the field of Data Science. It covers essential data science languages, libraries, tools, and some basic arithmetic operations in Python. The notebook also demonstrates simple Python code for basic calculations.\n"
   ]
  },
  {
   "cell_type": "markdown",
   "id": "166ed92e-0e11-4ef6-afd0-f55045bbe7df",
   "metadata": {},
   "source": [
    "## Data Science Languages\n",
    "\n",
    "The following programming languages are widely used in Data Science:\n",
    "\n",
    "- Python\n",
    "- R\n",
    "- Julia\n",
    "- SQL\n",
    "- Java\n",
    "- Scala\n"
   ]
  },
  {
   "cell_type": "markdown",
   "id": "9837b445-3fd2-4252-8666-bbff867e2eac",
   "metadata": {},
   "source": [
    "## Data Science Libraries\n",
    "\n",
    "Some of the most commonly used libraries for data science include:\n",
    "\n",
    "- **NumPy**: For numerical operations and array handling.\n",
    "- **Pandas**: For data manipulation and analysis.\n",
    "- **Matplotlib**: For creating static, animated, and interactive visualizations.\n",
    "- **Scikit-learn**: For machine learning and statistical modeling.\n",
    "- **TensorFlow**: For deep learning.\n",
    "- **Keras**: For building neural networks and deep learning models.\n",
    "- **Seaborn**: For data visualization, built on top of Matplotlib.\n",
    "- **PyTorch**: For deep learning and artificial intelligence.\n"
   ]
  },
  {
   "cell_type": "markdown",
   "id": "62c5e1e4-763b-4489-a392-626ed66da752",
   "metadata": {},
   "source": [
    "## Data Science Tools\n",
    "\n",
    "| Tool           | Description                                           |\n",
    "|----------------|-------------------------------------------------------|\n",
    "| Jupyter        | A web-based interactive environment for running code |\n",
    "| RStudio        | An integrated development environment for R          |\n",
    "| Apache Spark   | A fast engine for big data processing                |\n",
    "| TensorFlow     | A library for deep learning                          |\n",
    "| Tableau        | A data visualization tool                            |\n",
    "| GitHub         | A platform for version control and collaboration     |\n",
    "| Excel          | A spreadsheet tool used for data analysis            |\n"
   ]
  },
  {
   "cell_type": "markdown",
   "id": "8b465653-e626-466e-a5db-ca0904fdffcb",
   "metadata": {},
   "source": [
    "Arithmetic expressions involve mathematical operations such as addition (+), subtraction (-), multiplication (*), and division (/). Below are some examples:\n",
    "- Addition: 2 + 3 = 5\n",
    "- Subtraction: 7 - 4 = 3\n",
    "- Multiplication: 5 * 6 = 30\n",
    "- Division: 10 / 2 = 5"
   ]
  },
  {
   "cell_type": "code",
   "execution_count": 6,
   "id": "935b56d8-6a81-4839-8a56-508376c40297",
   "metadata": {},
   "outputs": [
    {
     "name": "stdout",
     "output_type": "stream",
     "text": [
      "2\n",
      "3\n"
     ]
    }
   ],
   "source": [
    "a = 1\n",
    "b = 2\n",
    "print(a * b)\n",
    "print(a + b)"
   ]
  },
  {
   "cell_type": "code",
   "execution_count": 9,
   "id": "5e5f4ff5-e5e5-48da-96f8-77ef741e236b",
   "metadata": {},
   "outputs": [
    {
     "name": "stdout",
     "output_type": "stream",
     "text": [
      "2.0\n"
     ]
    }
   ],
   "source": [
    "min = 123.00\n",
    "hour = min // 60\n",
    "print(hour)"
   ]
  },
  {
   "cell_type": "markdown",
   "id": "187becb5-22a6-4b6e-9ffc-4b9199671651",
   "metadata": {},
   "source": [
    "### Objectives  \n",
    "- Learn about Data Science tools and their applications.  \n",
    "- Understand arithmetic expressions in Python.  \n",
    "- Perform basic mathematical operations using code cells.  \n",
    "- Convert time units using Python.  \n",
    "- Share and document work using GitHub and Jupyter Notebook.  \n"
   ]
  },
  {
   "cell_type": "markdown",
   "id": "0a347f24-96c2-4438-ad5a-47d3aec553e3",
   "metadata": {},
   "source": [
    "### Author  \n",
    "**Sachin Acharya**\n"
   ]
  },
  {
   "cell_type": "code",
   "execution_count": null,
   "id": "51060599-d458-4eea-ab37-ff1ca0f0d21d",
   "metadata": {},
   "outputs": [],
   "source": []
  }
 ],
 "metadata": {
  "kernelspec": {
   "display_name": "Python 3 (ipykernel)",
   "language": "python",
   "name": "python3"
  },
  "language_info": {
   "codemirror_mode": {
    "name": "ipython",
    "version": 3
   },
   "file_extension": ".py",
   "mimetype": "text/x-python",
   "name": "python",
   "nbconvert_exporter": "python",
   "pygments_lexer": "ipython3",
   "version": "3.12.7"
  }
 },
 "nbformat": 4,
 "nbformat_minor": 5
}
